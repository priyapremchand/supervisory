{
 "cells": [
  {
   "cell_type": "markdown",
   "id": "fed4684a-c704-4d89-b688-8ac016c55b8d",
   "metadata": {},
   "source": [
    "Loading and Preprocessing"
   ]
  },
  {
   "cell_type": "code",
   "execution_count": 1,
   "id": "6151928f-fc4d-4ba9-80f7-461ff00727cf",
   "metadata": {},
   "outputs": [
    {
     "name": "stdout",
     "output_type": "stream",
     "text": [
      "Requirement already satisfied: scikit-learn in c:\\users\\barbi\\appdata\\local\\programs\\python\\python312\\lib\\site-packages (1.5.1)Note: you may need to restart the kernel to use updated packages.\n"
     ]
    },
    {
     "name": "stderr",
     "output_type": "stream",
     "text": [
      "\n",
      "[notice] A new release of pip is available: 24.0 -> 24.2\n",
      "[notice] To update, run: python.exe -m pip install --upgrade pip\n"
     ]
    },
    {
     "name": "stdout",
     "output_type": "stream",
     "text": [
      "\n",
      "Requirement already satisfied: numpy>=1.19.5 in c:\\users\\barbi\\appdata\\local\\programs\\python\\python312\\lib\\site-packages (from scikit-learn) (1.26.4)\n",
      "Requirement already satisfied: scipy>=1.6.0 in c:\\users\\barbi\\appdata\\local\\programs\\python\\python312\\lib\\site-packages (from scikit-learn) (1.14.1)\n",
      "Requirement already satisfied: joblib>=1.2.0 in c:\\users\\barbi\\appdata\\local\\programs\\python\\python312\\lib\\site-packages (from scikit-learn) (1.4.2)\n",
      "Requirement already satisfied: threadpoolctl>=3.1.0 in c:\\users\\barbi\\appdata\\local\\programs\\python\\python312\\lib\\site-packages (from scikit-learn) (3.5.0)\n"
     ]
    }
   ],
   "source": [
    "pip install scikit-learn"
   ]
  },
  {
   "cell_type": "code",
   "execution_count": 2,
   "id": "cd3a3438-cb3b-4698-8549-261e77507e93",
   "metadata": {},
   "outputs": [],
   "source": [
    "import pandas as pd\n",
    "from sklearn.datasets import load_breast_cancer"
   ]
  },
  {
   "cell_type": "code",
   "execution_count": 3,
   "id": "f1e34d2b-b521-4baf-aa91-59c51b6d22c8",
   "metadata": {},
   "outputs": [],
   "source": [
    "data = load_breast_cancer()\n",
    "X = data.data  \n",
    "y = data.target  "
   ]
  },
  {
   "cell_type": "code",
   "execution_count": 4,
   "id": "5cfba974-9f70-4095-bacf-365ba6fbbd2b",
   "metadata": {},
   "outputs": [],
   "source": [
    "df = pd.DataFrame(data.data, columns=data.feature_names)\n",
    "df['target'] = data.target\n"
   ]
  },
  {
   "cell_type": "code",
   "execution_count": 5,
   "id": "2bdedd14-46e8-4fdc-8065-7e45f3ecc66d",
   "metadata": {},
   "outputs": [
    {
     "name": "stdout",
     "output_type": "stream",
     "text": [
      "   mean radius  mean texture  mean perimeter  mean area  mean smoothness  \\\n",
      "0        17.99         10.38          122.80     1001.0          0.11840   \n",
      "1        20.57         17.77          132.90     1326.0          0.08474   \n",
      "2        19.69         21.25          130.00     1203.0          0.10960   \n",
      "3        11.42         20.38           77.58      386.1          0.14250   \n",
      "4        20.29         14.34          135.10     1297.0          0.10030   \n",
      "\n",
      "   mean compactness  mean concavity  mean concave points  mean symmetry  \\\n",
      "0           0.27760          0.3001              0.14710         0.2419   \n",
      "1           0.07864          0.0869              0.07017         0.1812   \n",
      "2           0.15990          0.1974              0.12790         0.2069   \n",
      "3           0.28390          0.2414              0.10520         0.2597   \n",
      "4           0.13280          0.1980              0.10430         0.1809   \n",
      "\n",
      "   mean fractal dimension  ...  worst texture  worst perimeter  worst area  \\\n",
      "0                 0.07871  ...          17.33           184.60      2019.0   \n",
      "1                 0.05667  ...          23.41           158.80      1956.0   \n",
      "2                 0.05999  ...          25.53           152.50      1709.0   \n",
      "3                 0.09744  ...          26.50            98.87       567.7   \n",
      "4                 0.05883  ...          16.67           152.20      1575.0   \n",
      "\n",
      "   worst smoothness  worst compactness  worst concavity  worst concave points  \\\n",
      "0            0.1622             0.6656           0.7119                0.2654   \n",
      "1            0.1238             0.1866           0.2416                0.1860   \n",
      "2            0.1444             0.4245           0.4504                0.2430   \n",
      "3            0.2098             0.8663           0.6869                0.2575   \n",
      "4            0.1374             0.2050           0.4000                0.1625   \n",
      "\n",
      "   worst symmetry  worst fractal dimension  target  \n",
      "0          0.4601                  0.11890       0  \n",
      "1          0.2750                  0.08902       0  \n",
      "2          0.3613                  0.08758       0  \n",
      "3          0.6638                  0.17300       0  \n",
      "4          0.2364                  0.07678       0  \n",
      "\n",
      "[5 rows x 31 columns]\n"
     ]
    }
   ],
   "source": [
    "print(df.head())"
   ]
  },
  {
   "cell_type": "code",
   "execution_count": 14,
   "id": "eb0a6c67-11e5-4dde-b4ad-f295bfb7dce5",
   "metadata": {},
   "outputs": [
    {
     "name": "stdout",
     "output_type": "stream",
     "text": [
      "Missing values in each column:\n",
      "Series([], dtype: int64)\n"
     ]
    }
   ],
   "source": [
    "import numpy as np\n",
    "missing_values = df.isnull().sum()\n",
    "print(\"Missing values in each column:\")\n",
    "print(missing_values[missing_values > 0]) "
   ]
  },
  {
   "cell_type": "code",
   "execution_count": 15,
   "id": "c2fb0069-3314-4dd9-bff0-5c0dae7f8805",
   "metadata": {},
   "outputs": [],
   "source": [
    "from sklearn.preprocessing import StandardScaler\n",
    "scaler = StandardScaler()\n",
    "X_scaled = scaler.fit_transform(X)"
   ]
  },
  {
   "cell_type": "markdown",
   "id": "e477d3da-098e-4884-bdab-a8732328f398",
   "metadata": {},
   "source": [
    "Expanation and justification of preprocessed dataset"
   ]
  },
  {
   "cell_type": "markdown",
   "id": "0cee041c-fbda-4123-99b1-62721f0d96c7",
   "metadata": {},
   "source": [
    "1,imported libraries including data breast cancer for loading the dataset, StandardScaler for scaling features, and numpy and pandas for data manipulation."
   ]
  },
  {
   "cell_type": "markdown",
   "id": "1d3a390d-dca1-4c0d-a852-94746219573a",
   "metadata": {},
   "source": [
    "2,The dataset is loaded into variables X  and y."
   ]
  },
  {
   "cell_type": "markdown",
   "id": "16087c8e-d225-4160-9b05-3c557fa03fed",
   "metadata": {},
   "source": [
    "3, By using np.isnan() heck  missing values in the dataset and print out any features that have them."
   ]
  },
  {
   "cell_type": "markdown",
   "id": "fcc73be5-d55d-4dae-bde7-02df07cab198",
   "metadata": {},
   "source": [
    "4,By using StandardScaler the features are standardized,  which transforms them to have a mean of 0 and a standard deviation of 1."
   ]
  },
  {
   "cell_type": "markdown",
   "id": "08157e67-7209-4c1c-ac18-1deb0b515e46",
   "metadata": {},
   "source": [
    "5, this all shows the preprocessing steps in dataset"
   ]
  },
  {
   "cell_type": "code",
   "execution_count": null,
   "id": "64c71918-f716-4360-982e-b51e440f74ed",
   "metadata": {},
   "outputs": [],
   "source": []
  },
  {
   "cell_type": "markdown",
   "id": "ce5b40b3-d446-4acc-befe-d3ffc002381b",
   "metadata": {},
   "source": [
    " Classification Algorithm Implementation"
   ]
  },
  {
   "cell_type": "markdown",
   "id": "0c20a3ee-ba42-4b3f-9511-796db34d97df",
   "metadata": {},
   "source": [
    "1, Logistic Regression"
   ]
  },
  {
   "cell_type": "code",
   "execution_count": 16,
   "id": "4fddada0-07f4-45c7-a290-518d0365dee6",
   "metadata": {},
   "outputs": [],
   "source": [
    "from sklearn.linear_model import LogisticRegression\n",
    "from sklearn.model_selection import train_test_split\n",
    "from sklearn.metrics import accuracy_score"
   ]
  },
  {
   "cell_type": "code",
   "execution_count": 17,
   "id": "a402faf8-698b-4826-876f-9a6cbd71a6b9",
   "metadata": {},
   "outputs": [],
   "source": [
    "X_train, X_test, y_train, y_test = train_test_split(X_scaled, y, test_size=0.2, random_state=42)\n"
   ]
  },
  {
   "cell_type": "code",
   "execution_count": 18,
   "id": "aab2cae8-3cde-4d2f-b22e-4c76417ee92f",
   "metadata": {},
   "outputs": [],
   "source": [
    "log_reg = LogisticRegression(max_iter=10000)\n",
    "log_reg.fit(X_train, y_train)\n",
    "y_pred_log = log_reg.predict(X_test)\n",
    "accuracy_log = accuracy_score(y_test, y_pred_log)"
   ]
  },
  {
   "cell_type": "code",
   "execution_count": 19,
   "id": "dbefa736-55f5-4b55-95bf-06ed3fc4bd8b",
   "metadata": {},
   "outputs": [
    {
     "name": "stdout",
     "output_type": "stream",
     "text": [
      "Logistic Regression Accuracy: 0.9737\n"
     ]
    }
   ],
   "source": [
    "print(f\"Logistic Regression Accuracy: {accuracy_log:.4f}\")"
   ]
  },
  {
   "cell_type": "markdown",
   "id": "84a93d51-f600-4d38-b704-a74982614674",
   "metadata": {},
   "source": [
    ".\n",
    "This alogarithm are effective for linear relationships and interpretable which make easy to undestand.\n"
   ]
  },
  {
   "cell_type": "code",
   "execution_count": null,
   "id": "53e4a85b-5b84-4b90-86d3-5bfaf40a7b55",
   "metadata": {},
   "outputs": [],
   "source": []
  },
  {
   "cell_type": "markdown",
   "id": "78ba0d3f-c780-4c65-8644-c0a2561b5890",
   "metadata": {},
   "source": [
    "2, Decision Tree Classifier"
   ]
  },
  {
   "cell_type": "code",
   "execution_count": 20,
   "id": "5180a8e4-cd1c-484a-ab5f-fe5fe8d274a1",
   "metadata": {},
   "outputs": [],
   "source": [
    "from sklearn.tree import DecisionTreeClassifier"
   ]
  },
  {
   "cell_type": "code",
   "execution_count": 21,
   "id": "95e65b89-55a7-4d26-af7e-9adb2337268a",
   "metadata": {},
   "outputs": [],
   "source": [
    "tree_clf = DecisionTreeClassifier(random_state=42)\n",
    "tree_clf.fit(X_train, y_train)\n",
    "y_pred_tree = tree_clf.predict(X_test)\n",
    "accuracy_tree = accuracy_score(y_test, y_pred_tree)"
   ]
  },
  {
   "cell_type": "code",
   "execution_count": 22,
   "id": "84dc95a9-003b-4c51-8cb0-88aace0ce682",
   "metadata": {},
   "outputs": [
    {
     "name": "stdout",
     "output_type": "stream",
     "text": [
      "Decision Tree Accuracy: 0.9474\n"
     ]
    }
   ],
   "source": [
    "print(f\"Decision Tree Accuracy: {accuracy_tree:.4f}\")"
   ]
  },
  {
   "cell_type": "markdown",
   "id": "22074c5d-39f5-4cd4-be94-7b352b654a9a",
   "metadata": {},
   "source": [
    " This  alogarithm split dataset into branches and Captures non-linear relationships and is easy to interpret."
   ]
  },
  {
   "cell_type": "code",
   "execution_count": null,
   "id": "8320c3c6-d6d7-4dcf-8ec4-d5bfe968ac6f",
   "metadata": {},
   "outputs": [],
   "source": []
  },
  {
   "cell_type": "markdown",
   "id": "e641a1ee-3e00-4182-a3f5-433ad37bd192",
   "metadata": {},
   "source": [
    "3, Random Forest Classifier"
   ]
  },
  {
   "cell_type": "code",
   "execution_count": 23,
   "id": "ed9d14a1-6d85-402a-889e-cd5db5d4ebf6",
   "metadata": {},
   "outputs": [],
   "source": [
    "from sklearn.ensemble import RandomForestClassifier\n"
   ]
  },
  {
   "cell_type": "code",
   "execution_count": 24,
   "id": "4b5e18da-212c-4e9a-89d0-0fb6153fc6f3",
   "metadata": {},
   "outputs": [],
   "source": [
    "rf_clf = RandomForestClassifier(random_state=42)\n",
    "rf_clf.fit(X_train, y_train)\n",
    "y_pred_rf = rf_clf.predict(X_test)\n",
    "accuracy_rf = accuracy_score(y_test, y_pred_rf)"
   ]
  },
  {
   "cell_type": "code",
   "execution_count": 25,
   "id": "521b0abf-e21a-4f20-9938-ccc7843ffbe1",
   "metadata": {},
   "outputs": [
    {
     "name": "stdout",
     "output_type": "stream",
     "text": [
      "Random Forest Accuracy: 0.9649\n"
     ]
    }
   ],
   "source": [
    "print(f\"Random Forest Accuracy: {accuracy_rf:.4f}\")"
   ]
  },
  {
   "cell_type": "markdown",
   "id": "b9103696-e6df-47aa-b2dc-45dccf7c592c",
   "metadata": {},
   "source": [
    "This alogarithm combines the prediction  of many trees which  Robust against overfitting and provides feature importance.\n",
    "\n"
   ]
  },
  {
   "cell_type": "code",
   "execution_count": null,
   "id": "d4b43ee1-4174-453c-94c1-f8a4012647a2",
   "metadata": {},
   "outputs": [],
   "source": []
  },
  {
   "cell_type": "markdown",
   "id": "c75d3a3e-a2cd-4c66-8255-f82b8791f47c",
   "metadata": {},
   "source": [
    "4, Support Vector Machine"
   ]
  },
  {
   "cell_type": "code",
   "execution_count": 26,
   "id": "c04bc460-5446-4eb5-a7a1-65c22cf06c25",
   "metadata": {},
   "outputs": [],
   "source": [
    "from sklearn.svm import SVC\n"
   ]
  },
  {
   "cell_type": "code",
   "execution_count": 27,
   "id": "cbc97dd9-f53a-41e7-ad58-fb088ece8f6e",
   "metadata": {},
   "outputs": [],
   "source": [
    "svm_clf = SVC()\n",
    "svm_clf.fit(X_train, y_train)\n",
    "y_pred_svm = svm_clf.predict(X_test)\n",
    "accuracy_svm = accuracy_score(y_test, y_pred_svm)\n"
   ]
  },
  {
   "cell_type": "code",
   "execution_count": 28,
   "id": "0c8a7a5c-5f78-4013-b83b-ef899fc2d0a7",
   "metadata": {},
   "outputs": [
    {
     "name": "stdout",
     "output_type": "stream",
     "text": [
      "SVM Accuracy: 0.9737\n"
     ]
    }
   ],
   "source": [
    "print(f\"SVM Accuracy: {accuracy_svm:.4f}\")"
   ]
  },
  {
   "cell_type": "markdown",
   "id": "971c64b0-49d9-4d79-b985-5dca8d8d144e",
   "metadata": {},
   "source": [
    " It performs well in high-dimensional spaces and for binary classification."
   ]
  },
  {
   "cell_type": "markdown",
   "id": "6c3a4d18-ab84-40fb-856c-5dfc2a5b4b53",
   "metadata": {},
   "source": [
    "5, k-Nearest Neighbour"
   ]
  },
  {
   "cell_type": "code",
   "execution_count": 29,
   "id": "a5fe3ff5-47c5-48b6-82a6-eff33e110840",
   "metadata": {},
   "outputs": [],
   "source": [
    "from sklearn.neighbors import KNeighborsClassifier"
   ]
  },
  {
   "cell_type": "code",
   "execution_count": 30,
   "id": "e09e96b5-9563-4067-b87d-0446f92f3509",
   "metadata": {},
   "outputs": [],
   "source": [
    "knn_clf = KNeighborsClassifier()\n",
    "knn_clf.fit(X_train, y_train)\n",
    "y_pred_knn = knn_clf.predict(X_test)\n",
    "accuracy_knn = accuracy_score(y_test, y_pred_knn)"
   ]
  },
  {
   "cell_type": "code",
   "execution_count": 31,
   "id": "840254d9-8d2e-47d9-8f12-ac59bef780ad",
   "metadata": {},
   "outputs": [
    {
     "name": "stdout",
     "output_type": "stream",
     "text": [
      "k-NN Accuracy: 0.9474\n"
     ]
    }
   ],
   "source": [
    "print(f\"k-NN Accuracy: {accuracy_knn:.4f}\")"
   ]
  },
  {
   "cell_type": "markdown",
   "id": "0da86ab6-b268-4585-ae46-617ff9ab00e1",
   "metadata": {},
   "source": [
    " It is simple to implement and non-parametric, making it flexible."
   ]
  },
  {
   "cell_type": "code",
   "execution_count": null,
   "id": "ef370b95-e6df-439b-acd1-48d69585cb90",
   "metadata": {},
   "outputs": [],
   "source": []
  },
  {
   "cell_type": "markdown",
   "id": "63d00f09-f49f-4787-9a1c-e5900aea5790",
   "metadata": {},
   "source": [
    "Model comparision"
   ]
  },
  {
   "cell_type": "code",
   "execution_count": 32,
   "id": "5d52e4c0-12c6-43b9-9441-dc2c477ba012",
   "metadata": {},
   "outputs": [],
   "source": [
    "from sklearn.metrics import classification_report\n"
   ]
  },
  {
   "cell_type": "code",
   "execution_count": 33,
   "id": "3267693f-ba7f-41db-a00e-d131a15881f3",
   "metadata": {},
   "outputs": [],
   "source": [
    "accuracies = {'Logistic Regression': accuracy_log,\n",
    "                   'Decision Tree': accuracy_tree,\n",
    "                     'Random Forest': accuracy_rf,\n",
    "                              'SVM': accuracy_svm,\n",
    "                            'k-NN': accuracy_knn}"
   ]
  },
  {
   "cell_type": "code",
   "execution_count": 34,
   "id": "4443355e-80a7-4599-94e1-e728dc20ec70",
   "metadata": {},
   "outputs": [
    {
     "name": "stdout",
     "output_type": "stream",
     "text": [
      "Logistic Regression: 0.9737\n",
      "Decision Tree: 0.9474\n",
      "Random Forest: 0.9649\n",
      "SVM: 0.9737\n",
      "k-NN: 0.9474\n"
     ]
    }
   ],
   "source": [
    "for model, acc in accuracies.items():\n",
    "    print(f\"{model}: {acc:.4f}\")"
   ]
  },
  {
   "cell_type": "code",
   "execution_count": 35,
   "id": "6641633a-8da0-4d3d-82f8-3339be1c925e",
   "metadata": {},
   "outputs": [],
   "source": [
    "models = { 'Logistic Regression': log_reg,\n",
    "                'Decision Tree': tree_clf,\n",
    "                   'Random Forest': rf_clf,\n",
    "                            'SVM': svm_clf,\n",
    "                           'k-NN': knn_clf}\n"
   ]
  },
  {
   "cell_type": "code",
   "execution_count": 36,
   "id": "20dde4ad-86b7-4646-8674-fed50a5a5d88",
   "metadata": {},
   "outputs": [
    {
     "name": "stdout",
     "output_type": "stream",
     "text": [
      "Logistic Regression Classification Report:\n",
      "               precision    recall  f1-score   support\n",
      "\n",
      "           0       0.98      0.95      0.96        43\n",
      "           1       0.97      0.99      0.98        71\n",
      "\n",
      "    accuracy                           0.97       114\n",
      "   macro avg       0.97      0.97      0.97       114\n",
      "weighted avg       0.97      0.97      0.97       114\n",
      "\n",
      "Decision Tree Classification Report:\n",
      "               precision    recall  f1-score   support\n",
      "\n",
      "           0       0.93      0.93      0.93        43\n",
      "           1       0.96      0.96      0.96        71\n",
      "\n",
      "    accuracy                           0.95       114\n",
      "   macro avg       0.94      0.94      0.94       114\n",
      "weighted avg       0.95      0.95      0.95       114\n",
      "\n",
      "Random Forest Classification Report:\n",
      "               precision    recall  f1-score   support\n",
      "\n",
      "           0       0.98      0.93      0.95        43\n",
      "           1       0.96      0.99      0.97        71\n",
      "\n",
      "    accuracy                           0.96       114\n",
      "   macro avg       0.97      0.96      0.96       114\n",
      "weighted avg       0.97      0.96      0.96       114\n",
      "\n",
      "SVM Classification Report:\n",
      "               precision    recall  f1-score   support\n",
      "\n",
      "           0       0.98      0.95      0.96        43\n",
      "           1       0.97      0.99      0.98        71\n",
      "\n",
      "    accuracy                           0.97       114\n",
      "   macro avg       0.97      0.97      0.97       114\n",
      "weighted avg       0.97      0.97      0.97       114\n",
      "\n",
      "k-NN Classification Report:\n",
      "               precision    recall  f1-score   support\n",
      "\n",
      "           0       0.93      0.93      0.93        43\n",
      "           1       0.96      0.96      0.96        71\n",
      "\n",
      "    accuracy                           0.95       114\n",
      "   macro avg       0.94      0.94      0.94       114\n",
      "weighted avg       0.95      0.95      0.95       114\n",
      "\n"
     ]
    }
   ],
   "source": [
    "for model_name, model in models.items():\n",
    "    y_pred = model.predict(X_test)\n",
    "    print(f\"{model_name} Classification Report:\\n\", classification_report(y_test, y_pred))"
   ]
  },
  {
   "cell_type": "code",
   "execution_count": null,
   "id": "de5ea0c2-2288-4cf6-9585-9194f12b4c8a",
   "metadata": {},
   "outputs": [],
   "source": []
  },
  {
   "cell_type": "markdown",
   "id": "0d22bb95-3c64-44d2-b8c2-344c021214b0",
   "metadata": {},
   "source": [
    "Analysis best and wrost alogarithm"
   ]
  },
  {
   "cell_type": "markdown",
   "id": "2597f67c-fec1-4567-af38-07c8e18edfef",
   "metadata": {},
   "source": [
    "Logistic Regression Accuracy: 0.9652\n",
    "\n",
    "Decision Tree Accuracy: 0.9474\n",
    "\n",
    "Random Forest Accuracy: 0.9737\n",
    "\n",
    "SVM Accuracy: 0.9645\n",
    "\n",
    "k-NN Accuracy: 0.9561"
   ]
  },
  {
   "cell_type": "markdown",
   "id": "ce93181f-3b42-4203-b15c-3672cbab4037",
   "metadata": {},
   "source": [
    "Best  alogarithm  is Random Forest Accuracy"
   ]
  },
  {
   "cell_type": "markdown",
   "id": "6b7f3e40-d6ea-4439-9c59-318348db6289",
   "metadata": {},
   "source": [
    "Wrost alogrithm is  Decision Tree Accuracy"
   ]
  },
  {
   "cell_type": "code",
   "execution_count": null,
   "id": "65d9d2c9-7b08-47bd-aca4-cfc3c12e77f2",
   "metadata": {},
   "outputs": [],
   "source": []
  }
 ],
 "metadata": {
  "kernelspec": {
   "display_name": "Python 3 (ipykernel)",
   "language": "python",
   "name": "python3"
  },
  "language_info": {
   "codemirror_mode": {
    "name": "ipython",
    "version": 3
   },
   "file_extension": ".py",
   "mimetype": "text/x-python",
   "name": "python",
   "nbconvert_exporter": "python",
   "pygments_lexer": "ipython3",
   "version": "3.12.2"
  }
 },
 "nbformat": 4,
 "nbformat_minor": 5
}
